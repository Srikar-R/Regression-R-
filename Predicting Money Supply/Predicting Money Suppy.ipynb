{
 "cells": [
  {
   "cell_type": "code",
   "execution_count": 11,
   "metadata": {},
   "outputs": [],
   "source": [
    "import matplotlib.pyplot as plt\n",
    "import numpy as np\n",
    "import pandas as pd"
   ]
  },
  {
   "cell_type": "markdown",
   "metadata": {},
   "source": [
    "**Aim**:To build a regression model to predict the amount of currency in the economy"
   ]
  },
  {
   "cell_type": "markdown",
   "metadata": {},
   "source": [
    "**Data Description**- \n",
    "\n",
    "The data observesthe various monetary variables in India over a period of 58 months. The variables in the data set are:<br>\n",
    "1) M1(the amount of currency in circulation) <br>\n",
    "2) IIP (the index of inflation),  <br>\n",
    "3) INT (the bank interest rates),<br>\n",
    "4) UPI (the value of UPI transactions in that month)<br>\n",
    "5) CC (the value of credit card transactions in that month),<br>\n",
    "6)DC (the value of debit card transactions in that month) "
   ]
  },
  {
   "cell_type": "markdown",
   "metadata": {},
   "source": [
    "__The dependant variable is M1, the amount of curreny circulation in the economy__."
   ]
  },
  {
   "cell_type": "code",
   "execution_count": 191,
   "metadata": {},
   "outputs": [],
   "source": [
    "df=pd.read_excel('Book2.xlsx')"
   ]
  },
  {
   "cell_type": "code",
   "execution_count": 192,
   "metadata": {
    "scrolled": true
   },
   "outputs": [
    {
     "data": {
      "text/html": [
       "<div>\n",
       "<style scoped>\n",
       "    .dataframe tbody tr th:only-of-type {\n",
       "        vertical-align: middle;\n",
       "    }\n",
       "\n",
       "    .dataframe tbody tr th {\n",
       "        vertical-align: top;\n",
       "    }\n",
       "\n",
       "    .dataframe thead th {\n",
       "        text-align: right;\n",
       "    }\n",
       "</style>\n",
       "<table border=\"1\" class=\"dataframe\">\n",
       "  <thead>\n",
       "    <tr style=\"text-align: right;\">\n",
       "      <th></th>\n",
       "      <th>M1</th>\n",
       "      <th>IIP</th>\n",
       "      <th>INT</th>\n",
       "      <th>UPI</th>\n",
       "      <th>CC</th>\n",
       "      <th>DC</th>\n",
       "    </tr>\n",
       "  </thead>\n",
       "  <tbody>\n",
       "    <tr>\n",
       "      <th>0</th>\n",
       "      <td>9.927523</td>\n",
       "      <td>4.965638</td>\n",
       "      <td>7.5</td>\n",
       "      <td>-4.710531</td>\n",
       "      <td>18.157995</td>\n",
       "      <td>20.561188</td>\n",
       "    </tr>\n",
       "    <tr>\n",
       "      <th>1</th>\n",
       "      <td>9.924515</td>\n",
       "      <td>4.864453</td>\n",
       "      <td>7.5</td>\n",
       "      <td>-4.710531</td>\n",
       "      <td>18.198125</td>\n",
       "      <td>20.596799</td>\n",
       "    </tr>\n",
       "    <tr>\n",
       "      <th>2</th>\n",
       "      <td>9.934464</td>\n",
       "      <td>4.914124</td>\n",
       "      <td>7.5</td>\n",
       "      <td>-4.710531</td>\n",
       "      <td>18.253460</td>\n",
       "      <td>20.603657</td>\n",
       "    </tr>\n",
       "    <tr>\n",
       "      <th>3</th>\n",
       "      <td>9.980841</td>\n",
       "      <td>4.922896</td>\n",
       "      <td>7.3</td>\n",
       "      <td>-4.605170</td>\n",
       "      <td>18.179002</td>\n",
       "      <td>20.580925</td>\n",
       "    </tr>\n",
       "    <tr>\n",
       "      <th>4</th>\n",
       "      <td>9.952027</td>\n",
       "      <td>4.841822</td>\n",
       "      <td>7.3</td>\n",
       "      <td>-3.540459</td>\n",
       "      <td>18.309591</td>\n",
       "      <td>20.664207</td>\n",
       "    </tr>\n",
       "  </tbody>\n",
       "</table>\n",
       "</div>"
      ],
      "text/plain": [
       "         M1       IIP  INT       UPI         CC         DC\n",
       "0  9.927523  4.965638  7.5 -4.710531  18.157995  20.561188\n",
       "1  9.924515  4.864453  7.5 -4.710531  18.198125  20.596799\n",
       "2  9.934464  4.914124  7.5 -4.710531  18.253460  20.603657\n",
       "3  9.980841  4.922896  7.3 -4.605170  18.179002  20.580925\n",
       "4  9.952027  4.841822  7.3 -3.540459  18.309591  20.664207"
      ]
     },
     "execution_count": 192,
     "metadata": {},
     "output_type": "execute_result"
    }
   ],
   "source": [
    "df.head()"
   ]
  },
  {
   "cell_type": "code",
   "execution_count": 193,
   "metadata": {},
   "outputs": [
    {
     "data": {
      "text/plain": [
       "(58, 6)"
      ]
     },
     "execution_count": 193,
     "metadata": {},
     "output_type": "execute_result"
    }
   ],
   "source": [
    "df.shape\n",
    "\n",
    "#58 rows and 6 columns"
   ]
  },
  {
   "cell_type": "markdown",
   "metadata": {},
   "source": [
    "**Data Summary**"
   ]
  },
  {
   "cell_type": "code",
   "execution_count": 194,
   "metadata": {},
   "outputs": [
    {
     "data": {
      "text/html": [
       "<div>\n",
       "<style scoped>\n",
       "    .dataframe tbody tr th:only-of-type {\n",
       "        vertical-align: middle;\n",
       "    }\n",
       "\n",
       "    .dataframe tbody tr th {\n",
       "        vertical-align: top;\n",
       "    }\n",
       "\n",
       "    .dataframe thead th {\n",
       "        text-align: right;\n",
       "    }\n",
       "</style>\n",
       "<table border=\"1\" class=\"dataframe\">\n",
       "  <thead>\n",
       "    <tr style=\"text-align: right;\">\n",
       "      <th></th>\n",
       "      <th>M1</th>\n",
       "      <th>IIP</th>\n",
       "      <th>INT</th>\n",
       "      <th>UPI</th>\n",
       "      <th>CC</th>\n",
       "      <th>DC</th>\n",
       "    </tr>\n",
       "  </thead>\n",
       "  <tbody>\n",
       "    <tr>\n",
       "      <th>count</th>\n",
       "      <td>58.000000</td>\n",
       "      <td>58.000000</td>\n",
       "      <td>58.000000</td>\n",
       "      <td>58.000000</td>\n",
       "      <td>58.000000</td>\n",
       "      <td>58.000000</td>\n",
       "    </tr>\n",
       "    <tr>\n",
       "      <th>mean</th>\n",
       "      <td>10.057547</td>\n",
       "      <td>4.818563</td>\n",
       "      <td>6.757759</td>\n",
       "      <td>2.733861</td>\n",
       "      <td>18.721533</td>\n",
       "      <td>20.734361</td>\n",
       "    </tr>\n",
       "    <tr>\n",
       "      <th>std</th>\n",
       "      <td>0.150557</td>\n",
       "      <td>0.132757</td>\n",
       "      <td>0.662054</td>\n",
       "      <td>2.936856</td>\n",
       "      <td>0.263930</td>\n",
       "      <td>0.175073</td>\n",
       "    </tr>\n",
       "    <tr>\n",
       "      <th>min</th>\n",
       "      <td>9.650819</td>\n",
       "      <td>3.988984</td>\n",
       "      <td>5.500000</td>\n",
       "      <td>-4.710531</td>\n",
       "      <td>18.157995</td>\n",
       "      <td>20.035676</td>\n",
       "    </tr>\n",
       "    <tr>\n",
       "      <th>25%</th>\n",
       "      <td>9.943455</td>\n",
       "      <td>4.786239</td>\n",
       "      <td>6.450000</td>\n",
       "      <td>1.358243</td>\n",
       "      <td>18.550146</td>\n",
       "      <td>20.649635</td>\n",
       "    </tr>\n",
       "    <tr>\n",
       "      <th>50%</th>\n",
       "      <td>10.069179</td>\n",
       "      <td>4.837472</td>\n",
       "      <td>6.900000</td>\n",
       "      <td>4.044054</td>\n",
       "      <td>18.750236</td>\n",
       "      <td>20.735230</td>\n",
       "    </tr>\n",
       "    <tr>\n",
       "      <th>75%</th>\n",
       "      <td>10.158493</td>\n",
       "      <td>4.878999</td>\n",
       "      <td>7.287500</td>\n",
       "      <td>4.823296</td>\n",
       "      <td>18.929885</td>\n",
       "      <td>20.870029</td>\n",
       "    </tr>\n",
       "    <tr>\n",
       "      <th>max</th>\n",
       "      <td>10.326937</td>\n",
       "      <td>4.970508</td>\n",
       "      <td>7.500000</td>\n",
       "      <td>5.610087</td>\n",
       "      <td>19.142710</td>\n",
       "      <td>20.996368</td>\n",
       "    </tr>\n",
       "  </tbody>\n",
       "</table>\n",
       "</div>"
      ],
      "text/plain": [
       "              M1        IIP        INT        UPI         CC         DC\n",
       "count  58.000000  58.000000  58.000000  58.000000  58.000000  58.000000\n",
       "mean   10.057547   4.818563   6.757759   2.733861  18.721533  20.734361\n",
       "std     0.150557   0.132757   0.662054   2.936856   0.263930   0.175073\n",
       "min     9.650819   3.988984   5.500000  -4.710531  18.157995  20.035676\n",
       "25%     9.943455   4.786239   6.450000   1.358243  18.550146  20.649635\n",
       "50%    10.069179   4.837472   6.900000   4.044054  18.750236  20.735230\n",
       "75%    10.158493   4.878999   7.287500   4.823296  18.929885  20.870029\n",
       "max    10.326937   4.970508   7.500000   5.610087  19.142710  20.996368"
      ]
     },
     "execution_count": 194,
     "metadata": {},
     "output_type": "execute_result"
    }
   ],
   "source": [
    "df.describe()"
   ]
  },
  {
   "cell_type": "markdown",
   "metadata": {},
   "source": [
    "We observe that the minimum amount of currency circulation in the economy is 9.\n",
    "65 and the maximum is 10.327. The index of inflation ranges between 3.989 to 4.971. The bank interest rate is between 5.5 and 7.5 The range of value of UPI transactions are between -4.711 to 5.610.The value of credit card transactions lies between 18.16 to 19.14. The value of debit transactions lie between 20 to 21"
   ]
  },
  {
   "cell_type": "code",
   "execution_count": 195,
   "metadata": {},
   "outputs": [
    {
     "name": "stdout",
     "output_type": "stream",
     "text": [
      "float64\n",
      "float64\n",
      "float64\n",
      "float64\n",
      "float64\n",
      "float64\n"
     ]
    }
   ],
   "source": [
    "for i in df:\n",
    "    print(df[i].dtype)\n",
    "    \n",
    "#All the columns are float type"
   ]
  },
  {
   "cell_type": "code",
   "execution_count": 196,
   "metadata": {},
   "outputs": [
    {
     "data": {
      "text/plain": [
       "M1     0\n",
       "IIP    0\n",
       "INT    0\n",
       "UPI    0\n",
       "CC     0\n",
       "DC     0\n",
       "dtype: int64"
      ]
     },
     "execution_count": 196,
     "metadata": {},
     "output_type": "execute_result"
    }
   ],
   "source": [
    "df.isnull().sum()\n",
    "\n",
    "#No null values"
   ]
  },
  {
   "cell_type": "markdown",
   "metadata": {},
   "source": [
    "**Correlation Plot**"
   ]
  },
  {
   "cell_type": "code",
   "execution_count": 197,
   "metadata": {},
   "outputs": [],
   "source": [
    "import seaborn as sns"
   ]
  },
  {
   "cell_type": "code",
   "execution_count": 198,
   "metadata": {},
   "outputs": [],
   "source": [
    "cor1=df.corr()"
   ]
  },
  {
   "cell_type": "code",
   "execution_count": 199,
   "metadata": {},
   "outputs": [
    {
     "data": {
      "image/png": "[encoded data removed]",
      "text/plain": [
       "<Figure size 432x288 with 2 Axes>"
      ]
     },
     "metadata": {
      "needs_background": "light"
     },
     "output_type": "display_data"
    }
   ],
   "source": [
    "sns.heatmap(cor1,cmap='Greens',annot=True)\n",
    "plt.title('Correlation Plot\\n')\n",
    "plt.xlabel('Factors\\n')\n",
    "plt.ylabel('Factors\\n')\n",
    "plt.show()"
   ]
  },
  {
   "cell_type": "markdown",
   "metadata": {},
   "source": [
    "From this table, we observe that there is high correlation between UPI value and value of credit card transactions. There is also high correlation between UPI and the money circulated. There is medium correlation between the credit and debit card valuations.We can observe low correlation with respect to credit card and bank interest rates.There is no correlation between credit card and index of inflation.\n"
   ]
  },
  {
   "cell_type": "markdown",
   "metadata": {},
   "source": [
    "**Building the regression model**"
   ]
  },
  {
   "cell_type": "code",
   "execution_count": 200,
   "metadata": {},
   "outputs": [],
   "source": [
    "import statsmodels.api as sm"
   ]
  },
  {
   "cell_type": "code",
   "execution_count": 201,
   "metadata": {},
   "outputs": [],
   "source": [
    "x=df[['IIP','INT','UPI','CC','DC']]"
   ]
  },
  {
   "cell_type": "code",
   "execution_count": 202,
   "metadata": {},
   "outputs": [],
   "source": [
    "y=df['M1']"
   ]
  },
  {
   "cell_type": "code",
   "execution_count": 203,
   "metadata": {},
   "outputs": [],
   "source": [
    "x=sm.add_constant(x)"
   ]
  },
  {
   "cell_type": "code",
   "execution_count": 204,
   "metadata": {},
   "outputs": [],
   "source": [
    "model=sm.OLS(y,x).fit()  #fitting an ordinary least square model"
   ]
  },
  {
   "cell_type": "code",
   "execution_count": 205,
   "metadata": {},
   "outputs": [
    {
     "data": {
      "text/html": [
       "<table class=\"simpletable\">\n",
       "<caption>OLS Regression Results</caption>\n",
       "<tr>\n",
       "  <th>Dep. Variable:</th>           <td>M1</td>        <th>  R-squared:         </th> <td>   0.685</td>\n",
       "</tr>\n",
       "<tr>\n",
       "  <th>Model:</th>                   <td>OLS</td>       <th>  Adj. R-squared:    </th> <td>   0.655</td>\n",
       "</tr>\n",
       "<tr>\n",
       "  <th>Method:</th>             <td>Least Squares</td>  <th>  F-statistic:       </th> <td>   22.65</td>\n",
       "</tr>\n",
       "<tr>\n",
       "  <th>Date:</th>             <td>Thu, 14 Jul 2022</td> <th>  Prob (F-statistic):</th> <td>5.50e-12</td>\n",
       "</tr>\n",
       "<tr>\n",
       "  <th>Time:</th>                 <td>14:01:12</td>     <th>  Log-Likelihood:    </th> <td>  61.551</td>\n",
       "</tr>\n",
       "<tr>\n",
       "  <th>No. Observations:</th>      <td>    58</td>      <th>  AIC:               </th> <td>  -111.1</td>\n",
       "</tr>\n",
       "<tr>\n",
       "  <th>Df Residuals:</th>          <td>    52</td>      <th>  BIC:               </th> <td>  -98.74</td>\n",
       "</tr>\n",
       "<tr>\n",
       "  <th>Df Model:</th>              <td>     5</td>      <th>                     </th>     <td> </td>   \n",
       "</tr>\n",
       "<tr>\n",
       "  <th>Covariance Type:</th>      <td>nonrobust</td>    <th>                     </th>     <td> </td>   \n",
       "</tr>\n",
       "</table>\n",
       "<table class=\"simpletable\">\n",
       "<tr>\n",
       "    <td></td>       <th>coef</th>     <th>std err</th>      <th>t</th>      <th>P>|t|</th>  <th>[0.025</th>    <th>0.975]</th>  \n",
       "</tr>\n",
       "<tr>\n",
       "  <th>const</th> <td>   12.1347</td> <td>    1.945</td> <td>    6.240</td> <td> 0.000</td> <td>    8.233</td> <td>   16.037</td>\n",
       "</tr>\n",
       "<tr>\n",
       "  <th>IIP</th>   <td>    0.1514</td> <td>    0.092</td> <td>    1.646</td> <td> 0.106</td> <td>   -0.033</td> <td>    0.336</td>\n",
       "</tr>\n",
       "<tr>\n",
       "  <th>INT</th>   <td>    0.0013</td> <td>    0.032</td> <td>    0.041</td> <td> 0.968</td> <td>   -0.064</td> <td>    0.066</td>\n",
       "</tr>\n",
       "<tr>\n",
       "  <th>UPI</th>   <td>    0.0229</td> <td>    0.009</td> <td>    2.679</td> <td> 0.010</td> <td>    0.006</td> <td>    0.040</td>\n",
       "</tr>\n",
       "<tr>\n",
       "  <th>CC</th>    <td>    0.3035</td> <td>    0.130</td> <td>    2.331</td> <td> 0.024</td> <td>    0.042</td> <td>    0.565</td>\n",
       "</tr>\n",
       "<tr>\n",
       "  <th>DC</th>    <td>   -0.4129</td> <td>    0.160</td> <td>   -2.577</td> <td> 0.013</td> <td>   -0.734</td> <td>   -0.091</td>\n",
       "</tr>\n",
       "</table>\n",
       "<table class=\"simpletable\">\n",
       "<tr>\n",
       "  <th>Omnibus:</th>       <td>16.893</td> <th>  Durbin-Watson:     </th> <td>   0.668</td>\n",
       "</tr>\n",
       "<tr>\n",
       "  <th>Prob(Omnibus):</th> <td> 0.000</td> <th>  Jarque-Bera (JB):  </th> <td>  24.702</td>\n",
       "</tr>\n",
       "<tr>\n",
       "  <th>Skew:</th>          <td>-1.024</td> <th>  Prob(JB):          </th> <td>4.33e-06</td>\n",
       "</tr>\n",
       "<tr>\n",
       "  <th>Kurtosis:</th>      <td> 5.456</td> <th>  Cond. No.          </th> <td>4.91e+03</td>\n",
       "</tr>\n",
       "</table><br/><br/>Warnings:<br/>[1] Standard Errors assume that the covariance matrix of the errors is correctly specified.<br/>[2] The condition number is large, 4.91e+03. This might indicate that there are<br/>strong multicollinearity or other numerical problems."
      ],
      "text/plain": [
       "<class 'statsmodels.iolib.summary.Summary'>\n",
       "\"\"\"\n",
       "                            OLS Regression Results                            \n",
       "==============================================================================\n",
       "Dep. Variable:                     M1   R-squared:                       0.685\n",
       "Model:                            OLS   Adj. R-squared:                  0.655\n",
       "Method:                 Least Squares   F-statistic:                     22.65\n",
       "Date:                Thu, 14 Jul 2022   Prob (F-statistic):           5.50e-12\n",
       "Time:                        14:01:12   Log-Likelihood:                 61.551\n",
       "No. Observations:                  58   AIC:                            -111.1\n",
       "Df Residuals:                      52   BIC:                            -98.74\n",
       "Df Model:                           5                                         \n",
       "Covariance Type:            nonrobust                                         \n",
       "==============================================================================\n",
       "                 coef    std err          t      P>|t|      [0.025      0.975]\n",
       "------------------------------------------------------------------------------\n",
       "const         12.1347      1.945      6.240      0.000       8.233      16.037\n",
       "IIP            0.1514      0.092      1.646      0.106      -0.033       0.336\n",
       "INT            0.0013      0.032      0.041      0.968      -0.064       0.066\n",
       "UPI            0.0229      0.009      2.679      0.010       0.006       0.040\n",
       "CC             0.3035      0.130      2.331      0.024       0.042       0.565\n",
       "DC            -0.4129      0.160     -2.577      0.013      -0.734      -0.091\n",
       "==============================================================================\n",
       "Omnibus:                       16.893   Durbin-Watson:                   0.668\n",
       "Prob(Omnibus):                  0.000   Jarque-Bera (JB):               24.702\n",
       "Skew:                          -1.024   Prob(JB):                     4.33e-06\n",
       "Kurtosis:                       5.456   Cond. No.                     4.91e+03\n",
       "==============================================================================\n",
       "\n",
       "Warnings:\n",
       "[1] Standard Errors assume that the covariance matrix of the errors is correctly specified.\n",
       "[2] The condition number is large, 4.91e+03. This might indicate that there are\n",
       "strong multicollinearity or other numerical problems.\n",
       "\"\"\""
      ]
     },
     "execution_count": 205,
     "metadata": {},
     "output_type": "execute_result"
    }
   ],
   "source": [
    "model.summary()"
   ]
  },
  {
   "cell_type": "markdown",
   "metadata": {},
   "source": [
    "- We observe that intercept is significant as its p-value is lesser than the significance value (0.05). This means that if all the values were 0, then the average circulation of money would be 12.13 thousand crores. \n",
    "<br><br>\n",
    "- We also observe the variables UPI, CC and DC to be significant as their p-values are lesser than the significance value (0.05).Variables such as IIP and INT have no significant relationship with the money circulated. \n",
    "<br><br>\n",
    "- The overall model is significant as the p-value is way below the significance level (0.05). The R-squared value shows 0.6853 which means that the independent variables only contribute to 68.53% of variation of the dependent variable M1, the money circulated in the economy. The adjusted R-Square which is obviously lesser shows the amount of variation that is described by variables that are actually significant."
   ]
  },
  {
   "cell_type": "code",
   "execution_count": 258,
   "metadata": {},
   "outputs": [
    {
     "data": {
      "text/plain": [
       "Text(0, 0.5, 'Values')"
      ]
     },
     "execution_count": 258,
     "metadata": {},
     "output_type": "execute_result"
    },
    {
     "data": {
      "image/png": "[encoded data removed]",
      "text/plain": [
       "<Figure size 432x288 with 1 Axes>"
      ]
     },
     "metadata": {
      "needs_background": "light"
     },
     "output_type": "display_data"
    }
   ],
   "source": [
    "df.plot.box()\n",
    "plt.title('Boxplot\\n')\n",
    "plt.xlabel('Factors')\n",
    "plt.ylabel('Values')"
   ]
  },
  {
   "cell_type": "markdown",
   "metadata": {},
   "source": [
    "We observe that UPI has outliers.Also transactions can not be negative and hence we must convert all negative values to postive"
   ]
  },
  {
   "cell_type": "code",
   "execution_count": 259,
   "metadata": {},
   "outputs": [],
   "source": [
    "df['UPI']=abs(df['UPI'])"
   ]
  },
  {
   "cell_type": "markdown",
   "metadata": {},
   "source": [
    "**Building a model with significant variables**"
   ]
  },
  {
   "cell_type": "code",
   "execution_count": 260,
   "metadata": {},
   "outputs": [],
   "source": [
    "x=df[['UPI','CC','DC']]"
   ]
  },
  {
   "cell_type": "code",
   "execution_count": 261,
   "metadata": {},
   "outputs": [],
   "source": [
    "y=df['M1']"
   ]
  },
  {
   "cell_type": "code",
   "execution_count": 262,
   "metadata": {},
   "outputs": [],
   "source": [
    "x=sm.add_constant(x)"
   ]
  },
  {
   "cell_type": "code",
   "execution_count": 263,
   "metadata": {},
   "outputs": [],
   "source": [
    "model=sm.OLS(y,x).fit()  #fitting an ordinary least square model"
   ]
  },
  {
   "cell_type": "code",
   "execution_count": 210,
   "metadata": {},
   "outputs": [
    {
     "data": {
      "text/html": [
       "<table class=\"simpletable\">\n",
       "<caption>OLS Regression Results</caption>\n",
       "<tr>\n",
       "  <th>Dep. Variable:</th>           <td>M1</td>        <th>  R-squared:         </th> <td>   0.669</td>\n",
       "</tr>\n",
       "<tr>\n",
       "  <th>Model:</th>                   <td>OLS</td>       <th>  Adj. R-squared:    </th> <td>   0.650</td>\n",
       "</tr>\n",
       "<tr>\n",
       "  <th>Method:</th>             <td>Least Squares</td>  <th>  F-statistic:       </th> <td>   36.36</td>\n",
       "</tr>\n",
       "<tr>\n",
       "  <th>Date:</th>             <td>Thu, 14 Jul 2022</td> <th>  Prob (F-statistic):</th> <td>5.37e-13</td>\n",
       "</tr>\n",
       "<tr>\n",
       "  <th>Time:</th>                 <td>14:01:24</td>     <th>  Log-Likelihood:    </th> <td>  60.077</td>\n",
       "</tr>\n",
       "<tr>\n",
       "  <th>No. Observations:</th>      <td>    58</td>      <th>  AIC:               </th> <td>  -112.2</td>\n",
       "</tr>\n",
       "<tr>\n",
       "  <th>Df Residuals:</th>          <td>    54</td>      <th>  BIC:               </th> <td>  -103.9</td>\n",
       "</tr>\n",
       "<tr>\n",
       "  <th>Df Model:</th>              <td>     3</td>      <th>                     </th>     <td> </td>   \n",
       "</tr>\n",
       "<tr>\n",
       "  <th>Covariance Type:</th>      <td>nonrobust</td>    <th>                     </th>     <td> </td>   \n",
       "</tr>\n",
       "</table>\n",
       "<table class=\"simpletable\">\n",
       "<tr>\n",
       "    <td></td>       <th>coef</th>     <th>std err</th>      <th>t</th>      <th>P>|t|</th>  <th>[0.025</th>    <th>0.975]</th>  \n",
       "</tr>\n",
       "<tr>\n",
       "  <th>const</th> <td>   12.6149</td> <td>    1.525</td> <td>    8.273</td> <td> 0.000</td> <td>    9.558</td> <td>   15.672</td>\n",
       "</tr>\n",
       "<tr>\n",
       "  <th>UPI</th>   <td>    0.0256</td> <td>    0.008</td> <td>    3.043</td> <td> 0.004</td> <td>    0.009</td> <td>    0.042</td>\n",
       "</tr>\n",
       "<tr>\n",
       "  <th>CC</th>    <td>    0.2569</td> <td>    0.115</td> <td>    2.239</td> <td> 0.029</td> <td>    0.027</td> <td>    0.487</td>\n",
       "</tr>\n",
       "<tr>\n",
       "  <th>DC</th>    <td>   -0.3587</td> <td>    0.104</td> <td>   -3.461</td> <td> 0.001</td> <td>   -0.567</td> <td>   -0.151</td>\n",
       "</tr>\n",
       "</table>\n",
       "<table class=\"simpletable\">\n",
       "<tr>\n",
       "  <th>Omnibus:</th>       <td>11.094</td> <th>  Durbin-Watson:     </th> <td>   0.577</td>\n",
       "</tr>\n",
       "<tr>\n",
       "  <th>Prob(Omnibus):</th> <td> 0.004</td> <th>  Jarque-Bera (JB):  </th> <td>  13.587</td>\n",
       "</tr>\n",
       "<tr>\n",
       "  <th>Skew:</th>          <td>-0.736</td> <th>  Prob(JB):          </th> <td> 0.00112</td>\n",
       "</tr>\n",
       "<tr>\n",
       "  <th>Kurtosis:</th>      <td> 4.858</td> <th>  Cond. No.          </th> <td>3.67e+03</td>\n",
       "</tr>\n",
       "</table><br/><br/>Warnings:<br/>[1] Standard Errors assume that the covariance matrix of the errors is correctly specified.<br/>[2] The condition number is large, 3.67e+03. This might indicate that there are<br/>strong multicollinearity or other numerical problems."
      ],
      "text/plain": [
       "<class 'statsmodels.iolib.summary.Summary'>\n",
       "\"\"\"\n",
       "                            OLS Regression Results                            \n",
       "==============================================================================\n",
       "Dep. Variable:                     M1   R-squared:                       0.669\n",
       "Model:                            OLS   Adj. R-squared:                  0.650\n",
       "Method:                 Least Squares   F-statistic:                     36.36\n",
       "Date:                Thu, 14 Jul 2022   Prob (F-statistic):           5.37e-13\n",
       "Time:                        14:01:24   Log-Likelihood:                 60.077\n",
       "No. Observations:                  58   AIC:                            -112.2\n",
       "Df Residuals:                      54   BIC:                            -103.9\n",
       "Df Model:                           3                                         \n",
       "Covariance Type:            nonrobust                                         \n",
       "==============================================================================\n",
       "                 coef    std err          t      P>|t|      [0.025      0.975]\n",
       "------------------------------------------------------------------------------\n",
       "const         12.6149      1.525      8.273      0.000       9.558      15.672\n",
       "UPI            0.0256      0.008      3.043      0.004       0.009       0.042\n",
       "CC             0.2569      0.115      2.239      0.029       0.027       0.487\n",
       "DC            -0.3587      0.104     -3.461      0.001      -0.567      -0.151\n",
       "==============================================================================\n",
       "Omnibus:                       11.094   Durbin-Watson:                   0.577\n",
       "Prob(Omnibus):                  0.004   Jarque-Bera (JB):               13.587\n",
       "Skew:                          -0.736   Prob(JB):                      0.00112\n",
       "Kurtosis:                       4.858   Cond. No.                     3.67e+03\n",
       "==============================================================================\n",
       "\n",
       "Warnings:\n",
       "[1] Standard Errors assume that the covariance matrix of the errors is correctly specified.\n",
       "[2] The condition number is large, 3.67e+03. This might indicate that there are\n",
       "strong multicollinearity or other numerical problems.\n",
       "\"\"\""
      ]
     },
     "execution_count": 210,
     "metadata": {},
     "output_type": "execute_result"
    }
   ],
   "source": [
    "model.summary()"
   ]
  },
  {
   "cell_type": "code",
   "execution_count": 264,
   "metadata": {},
   "outputs": [],
   "source": [
    "predicted=pd.DataFrame(model.predict())"
   ]
  },
  {
   "cell_type": "code",
   "execution_count": 290,
   "metadata": {},
   "outputs": [
    {
     "data": {
      "text/html": [
       "<div>\n",
       "<style scoped>\n",
       "    .dataframe tbody tr th:only-of-type {\n",
       "        vertical-align: middle;\n",
       "    }\n",
       "\n",
       "    .dataframe tbody tr th {\n",
       "        vertical-align: top;\n",
       "    }\n",
       "\n",
       "    .dataframe thead th {\n",
       "        text-align: right;\n",
       "    }\n",
       "</style>\n",
       "<table border=\"1\" class=\"dataframe\">\n",
       "  <thead>\n",
       "    <tr style=\"text-align: right;\">\n",
       "      <th></th>\n",
       "      <th>0</th>\n",
       "      <th>M1</th>\n",
       "    </tr>\n",
       "  </thead>\n",
       "  <tbody>\n",
       "    <tr>\n",
       "      <th>0</th>\n",
       "      <td>9.979137</td>\n",
       "      <td>9.927523</td>\n",
       "    </tr>\n",
       "    <tr>\n",
       "      <th>1</th>\n",
       "      <td>9.980911</td>\n",
       "      <td>9.924515</td>\n",
       "    </tr>\n",
       "    <tr>\n",
       "      <th>2</th>\n",
       "      <td>9.997143</td>\n",
       "      <td>9.934464</td>\n",
       "    </tr>\n",
       "    <tr>\n",
       "      <th>3</th>\n",
       "      <td>9.974458</td>\n",
       "      <td>9.980841</td>\n",
       "    </tr>\n",
       "    <tr>\n",
       "      <th>4</th>\n",
       "      <td>9.937816</td>\n",
       "      <td>9.952027</td>\n",
       "    </tr>\n",
       "    <tr>\n",
       "      <th>5</th>\n",
       "      <td>9.927697</td>\n",
       "      <td>9.682210</td>\n",
       "    </tr>\n",
       "    <tr>\n",
       "      <th>6</th>\n",
       "      <td>9.855648</td>\n",
       "      <td>9.650819</td>\n",
       "    </tr>\n",
       "  </tbody>\n",
       "</table>\n",
       "</div>"
      ],
      "text/plain": [
       "          0        M1\n",
       "0  9.979137  9.927523\n",
       "1  9.980911  9.924515\n",
       "2  9.997143  9.934464\n",
       "3  9.974458  9.980841\n",
       "4  9.937816  9.952027\n",
       "5  9.927697  9.682210\n",
       "6  9.855648  9.650819"
      ]
     },
     "execution_count": 290,
     "metadata": {},
     "output_type": "execute_result"
    }
   ],
   "source": [
    "op1=pd.concat([predicted,M1],axis=1)\n",
    "op1.head(7)\n"
   ]
  },
  {
   "cell_type": "markdown",
   "metadata": {},
   "source": [
    "**Checking OLS Assumptions**\n"
   ]
  },
  {
   "cell_type": "markdown",
   "metadata": {},
   "source": [
    "#### 1) Multicollinearity assumption test (using VIF)"
   ]
  },
  {
   "cell_type": "code",
   "execution_count": 266,
   "metadata": {},
   "outputs": [],
   "source": [
    "from statsmodels.stats.outliers_influence import variance_inflation_factor"
   ]
  },
  {
   "cell_type": "code",
   "execution_count": 267,
   "metadata": {},
   "outputs": [
    {
     "data": {
      "text/plain": [
       "{0: 14303.913198171447,\n",
       " 1: 1.5071816260068487,\n",
       " 2: 2.3871411176061503,\n",
       " 3: 1.8965424886959767}"
      ]
     },
     "execution_count": 267,
     "metadata": {},
     "output_type": "execute_result"
    }
   ],
   "source": [
    "{i:variance_inflation_factor(x.values, i) for i in range(x.shape[1])}"
   ]
  },
  {
   "cell_type": "code",
   "execution_count": 268,
   "metadata": {
    "scrolled": true
   },
   "outputs": [
    {
     "data": {
      "text/plain": [
       "Index(['UPI', 'CC', 'DC'], dtype='object')"
      ]
     },
     "execution_count": 268,
     "metadata": {},
     "output_type": "execute_result"
    }
   ],
   "source": [
    "x.columns[1:4]"
   ]
  },
  {
   "cell_type": "markdown",
   "metadata": {},
   "source": [
    "Since we see that the vif value of the regressors are not above 10, we say that assumption of no multicollinearity is satisfied.This means that no two variables interact with each other to have an impact on the money circulation in the economy."
   ]
  },
  {
   "cell_type": "markdown",
   "metadata": {},
   "source": [
    "#### 2) Heteroscedascity Test"
   ]
  },
  {
   "cell_type": "code",
   "execution_count": 269,
   "metadata": {},
   "outputs": [],
   "source": [
    "from statsmodels.stats.diagnostic import het_breuschpagan"
   ]
  },
  {
   "cell_type": "code",
   "execution_count": 270,
   "metadata": {},
   "outputs": [],
   "source": [
    "het=het_breuschpagan(model.resid,model.model.exog)"
   ]
  },
  {
   "cell_type": "code",
   "execution_count": 271,
   "metadata": {},
   "outputs": [],
   "source": [
    "names=['Lagrange multiplier statistic', 'p-value',\n",
    "        'f-value', 'f p-value']"
   ]
  },
  {
   "cell_type": "code",
   "execution_count": 272,
   "metadata": {
    "scrolled": true
   },
   "outputs": [
    {
     "name": "stdout",
     "output_type": "stream",
     "text": [
      "Lagrange multiplier statistic : 7.783162693354391\n",
      "p-value : 0.05071223040231511\n",
      "f-value : 2.7898397428911528\n",
      "f p-value : 0.04917961393272123\n"
     ]
    }
   ],
   "source": [
    "for i,j in zip(names,het):\n",
    "    print(i,':',j)"
   ]
  },
  {
   "cell_type": "markdown",
   "metadata": {},
   "source": [
    "We observe that the p-values is lesser than 0.05 and say that it is heteroscedastic"
   ]
  },
  {
   "cell_type": "markdown",
   "metadata": {},
   "source": [
    "**Remedying heteroscedastic**"
   ]
  },
  {
   "cell_type": "markdown",
   "metadata": {},
   "source": [
    "Converting the dependant variable(M1) into log M1"
   ]
  },
  {
   "cell_type": "code",
   "execution_count": 298,
   "metadata": {},
   "outputs": [],
   "source": [
    "log_y=np.log(df['M1'])"
   ]
  },
  {
   "cell_type": "code",
   "execution_count": 296,
   "metadata": {},
   "outputs": [],
   "source": [
    "log_x=np.log(x)"
   ]
  },
  {
   "cell_type": "code",
   "execution_count": 301,
   "metadata": {},
   "outputs": [],
   "source": [
    "model1=sm.OLS(log_y,log_x).fit()"
   ]
  },
  {
   "cell_type": "code",
   "execution_count": 302,
   "metadata": {},
   "outputs": [
    {
     "name": "stderr",
     "output_type": "stream",
     "text": [
      "C:\\Users\\Srikar\\anaconda3\\lib\\site-packages\\statsmodels\\regression\\linear_model.py:1827: RuntimeWarning: divide by zero encountered in double_scalars\n",
      "  return np.sqrt(eigvals[0]/eigvals[-1])\n",
      "C:\\Users\\Srikar\\anaconda3\\lib\\site-packages\\statsmodels\\base\\model.py:1362: RuntimeWarning: invalid value encountered in true_divide\n",
      "  return self.params / self.bse\n"
     ]
    },
    {
     "data": {
      "text/html": [
       "<table class=\"simpletable\">\n",
       "<caption>OLS Regression Results</caption>\n",
       "<tr>\n",
       "  <th>Dep. Variable:</th>           <td>M1</td>        <th>  R-squared (uncentered):</th>      <td>   1.000</td> \n",
       "</tr>\n",
       "<tr>\n",
       "  <th>Model:</th>                   <td>OLS</td>       <th>  Adj. R-squared (uncentered):</th> <td>   1.000</td> \n",
       "</tr>\n",
       "<tr>\n",
       "  <th>Method:</th>             <td>Least Squares</td>  <th>  F-statistic:       </th>          <td>8.162e+05</td>\n",
       "</tr>\n",
       "<tr>\n",
       "  <th>Date:</th>             <td>Thu, 14 Jul 2022</td> <th>  Prob (F-statistic):</th>          <td>8.75e-128</td>\n",
       "</tr>\n",
       "<tr>\n",
       "  <th>Time:</th>                 <td>16:21:57</td>     <th>  Log-Likelihood:    </th>          <td>  179.59</td> \n",
       "</tr>\n",
       "<tr>\n",
       "  <th>No. Observations:</th>      <td>    58</td>      <th>  AIC:               </th>          <td>  -353.2</td> \n",
       "</tr>\n",
       "<tr>\n",
       "  <th>Df Residuals:</th>          <td>    55</td>      <th>  BIC:               </th>          <td>  -347.0</td> \n",
       "</tr>\n",
       "<tr>\n",
       "  <th>Df Model:</th>              <td>     3</td>      <th>                     </th>              <td> </td>    \n",
       "</tr>\n",
       "<tr>\n",
       "  <th>Covariance Type:</th>      <td>nonrobust</td>    <th>                     </th>              <td> </td>    \n",
       "</tr>\n",
       "</table>\n",
       "<table class=\"simpletable\">\n",
       "<tr>\n",
       "    <td></td>       <th>coef</th>     <th>std err</th>      <th>t</th>      <th>P>|t|</th>  <th>[0.025</th>    <th>0.975]</th>  \n",
       "</tr>\n",
       "<tr>\n",
       "  <th>const</th> <td>         0</td> <td>        0</td> <td>      nan</td> <td>   nan</td> <td>        0</td> <td>        0</td>\n",
       "</tr>\n",
       "<tr>\n",
       "  <th>UPI</th>   <td>    0.0045</td> <td>    0.001</td> <td>    3.043</td> <td> 0.004</td> <td>    0.002</td> <td>    0.008</td>\n",
       "</tr>\n",
       "<tr>\n",
       "  <th>CC</th>    <td>    0.8458</td> <td>    0.144</td> <td>    5.869</td> <td> 0.000</td> <td>    0.557</td> <td>    1.135</td>\n",
       "</tr>\n",
       "<tr>\n",
       "  <th>DC</th>    <td>   -0.0575</td> <td>    0.139</td> <td>   -0.413</td> <td> 0.681</td> <td>   -0.336</td> <td>    0.221</td>\n",
       "</tr>\n",
       "</table>\n",
       "<table class=\"simpletable\">\n",
       "<tr>\n",
       "  <th>Omnibus:</th>       <td> 3.911</td> <th>  Durbin-Watson:     </th> <td>   0.494</td>\n",
       "</tr>\n",
       "<tr>\n",
       "  <th>Prob(Omnibus):</th> <td> 0.141</td> <th>  Jarque-Bera (JB):  </th> <td>   3.436</td>\n",
       "</tr>\n",
       "<tr>\n",
       "  <th>Skew:</th>          <td> 0.275</td> <th>  Prob(JB):          </th> <td>   0.179</td>\n",
       "</tr>\n",
       "<tr>\n",
       "  <th>Kurtosis:</th>      <td> 4.058</td> <th>  Cond. No.          </th> <td>     inf</td>\n",
       "</tr>\n",
       "</table><br/><br/>Warnings:<br/>[1] Standard Errors assume that the covariance matrix of the errors is correctly specified.<br/>[2] The smallest eigenvalue is      0. This might indicate that there are<br/>strong multicollinearity problems or that the design matrix is singular."
      ],
      "text/plain": [
       "<class 'statsmodels.iolib.summary.Summary'>\n",
       "\"\"\"\n",
       "                                 OLS Regression Results                                \n",
       "=======================================================================================\n",
       "Dep. Variable:                     M1   R-squared (uncentered):                   1.000\n",
       "Model:                            OLS   Adj. R-squared (uncentered):              1.000\n",
       "Method:                 Least Squares   F-statistic:                          8.162e+05\n",
       "Date:                Thu, 14 Jul 2022   Prob (F-statistic):                   8.75e-128\n",
       "Time:                        16:21:57   Log-Likelihood:                          179.59\n",
       "No. Observations:                  58   AIC:                                     -353.2\n",
       "Df Residuals:                      55   BIC:                                     -347.0\n",
       "Df Model:                           3                                                  \n",
       "Covariance Type:            nonrobust                                                  \n",
       "==============================================================================\n",
       "                 coef    std err          t      P>|t|      [0.025      0.975]\n",
       "------------------------------------------------------------------------------\n",
       "const               0          0        nan        nan           0           0\n",
       "UPI            0.0045      0.001      3.043      0.004       0.002       0.008\n",
       "CC             0.8458      0.144      5.869      0.000       0.557       1.135\n",
       "DC            -0.0575      0.139     -0.413      0.681      -0.336       0.221\n",
       "==============================================================================\n",
       "Omnibus:                        3.911   Durbin-Watson:                   0.494\n",
       "Prob(Omnibus):                  0.141   Jarque-Bera (JB):                3.436\n",
       "Skew:                           0.275   Prob(JB):                        0.179\n",
       "Kurtosis:                       4.058   Cond. No.                          inf\n",
       "==============================================================================\n",
       "\n",
       "Warnings:\n",
       "[1] Standard Errors assume that the covariance matrix of the errors is correctly specified.\n",
       "[2] The smallest eigenvalue is      0. This might indicate that there are\n",
       "strong multicollinearity problems or that the design matrix is singular.\n",
       "\"\"\""
      ]
     },
     "execution_count": 302,
     "metadata": {},
     "output_type": "execute_result"
    }
   ],
   "source": [
    "model1.summary()"
   ]
  },
  {
   "cell_type": "markdown",
   "metadata": {},
   "source": [
    "**Testing Homoscedascity**"
   ]
  },
  {
   "cell_type": "code",
   "execution_count": 303,
   "metadata": {},
   "outputs": [
    {
     "data": {
      "text/plain": [
       "(14.312166690400652,\n",
       " 0.002509613118983133,\n",
       " 6.0060136376617095,\n",
       " 0.0012924336867717156)"
      ]
     },
     "execution_count": 303,
     "metadata": {},
     "output_type": "execute_result"
    }
   ],
   "source": [
    "het_breuschpagan(model1.resid,model1.model.exog)"
   ]
  },
  {
   "cell_type": "markdown",
   "metadata": {},
   "source": [
    "The model is still heteroscedastic"
   ]
  },
  {
   "cell_type": "code",
   "execution_count": 304,
   "metadata": {},
   "outputs": [],
   "source": [
    "predict=pd.DataFrame(model1.predict())\n",
    "predict=predict.rename(columns={0:'Predicted'})"
   ]
  },
  {
   "cell_type": "code",
   "execution_count": 305,
   "metadata": {},
   "outputs": [],
   "source": [
    "log_y=pd.DataFrame(log_y)"
   ]
  },
  {
   "cell_type": "code",
   "execution_count": 306,
   "metadata": {},
   "outputs": [
    {
     "data": {
      "text/html": [
       "<div>\n",
       "<style scoped>\n",
       "    .dataframe tbody tr th:only-of-type {\n",
       "        vertical-align: middle;\n",
       "    }\n",
       "\n",
       "    .dataframe tbody tr th {\n",
       "        vertical-align: top;\n",
       "    }\n",
       "\n",
       "    .dataframe thead th {\n",
       "        text-align: right;\n",
       "    }\n",
       "</style>\n",
       "<table border=\"1\" class=\"dataframe\">\n",
       "  <thead>\n",
       "    <tr style=\"text-align: right;\">\n",
       "      <th></th>\n",
       "      <th>M1</th>\n",
       "      <th>Predicted</th>\n",
       "    </tr>\n",
       "  </thead>\n",
       "  <tbody>\n",
       "    <tr>\n",
       "      <th>0</th>\n",
       "      <td>2.295311</td>\n",
       "      <td>2.285390</td>\n",
       "    </tr>\n",
       "    <tr>\n",
       "      <th>1</th>\n",
       "      <td>2.295008</td>\n",
       "      <td>2.287158</td>\n",
       "    </tr>\n",
       "    <tr>\n",
       "      <th>2</th>\n",
       "      <td>2.296010</td>\n",
       "      <td>2.289707</td>\n",
       "    </tr>\n",
       "    <tr>\n",
       "      <th>3</th>\n",
       "      <td>2.300667</td>\n",
       "      <td>2.286210</td>\n",
       "    </tr>\n",
       "    <tr>\n",
       "      <th>4</th>\n",
       "      <td>2.297776</td>\n",
       "      <td>2.290839</td>\n",
       "    </tr>\n",
       "  </tbody>\n",
       "</table>\n",
       "</div>"
      ],
      "text/plain": [
       "         M1  Predicted\n",
       "0  2.295311   2.285390\n",
       "1  2.295008   2.287158\n",
       "2  2.296010   2.289707\n",
       "3  2.300667   2.286210\n",
       "4  2.297776   2.290839"
      ]
     },
     "execution_count": 306,
     "metadata": {},
     "output_type": "execute_result"
    }
   ],
   "source": [
    "op=pd.concat([log_y,predict],axis=1)\n",
    "op.head()"
   ]
  },
  {
   "cell_type": "markdown",
   "metadata": {},
   "source": [
    "**Model Accuracy**`"
   ]
  },
  {
   "cell_type": "code",
   "execution_count": 227,
   "metadata": {},
   "outputs": [],
   "source": [
    "from sklearn.metrics import mean_absolute_error"
   ]
  },
  {
   "cell_type": "code",
   "execution_count": 309,
   "metadata": {},
   "outputs": [
    {
     "data": {
      "text/plain": [
       "0.008581612264375378"
      ]
     },
     "execution_count": 309,
     "metadata": {},
     "output_type": "execute_result"
    }
   ],
   "source": [
    "mean_absolute_error(log_y,predict)"
   ]
  },
  {
   "cell_type": "markdown",
   "metadata": {},
   "source": [
    "**Residual Analysis**"
   ]
  },
  {
   "cell_type": "code",
   "execution_count": 310,
   "metadata": {},
   "outputs": [
    {
     "data": {
      "image/png": "[encoded data removed]",
      "text/plain": [
       "<Figure size 432x288 with 1 Axes>"
      ]
     },
     "metadata": {
      "needs_background": "light"
     },
     "output_type": "display_data"
    }
   ],
   "source": [
    "sm.qqplot(model1.resid, line = \"45\", fit = True)\n",
    "plt.title('qq-plot\\n',fontsize=16)\n",
    "plt.show()"
   ]
  },
  {
   "cell_type": "code",
   "execution_count": 286,
   "metadata": {},
   "outputs": [],
   "source": [
    "from scipy.stats import shapiro"
   ]
  },
  {
   "cell_type": "code",
   "execution_count": 312,
   "metadata": {},
   "outputs": [
    {
     "name": "stdout",
     "output_type": "stream",
     "text": [
      "p-valus is 0.2619875371456146 which is greater than 0.05 (significance value) \n",
      "and hence we accept the H0 and say that it is normally distributed\n"
     ]
    }
   ],
   "source": [
    "norm=shapiro(model1.resid)\n",
    "print('p-valus is',norm[1],'which is greater than 0.05 (significance value) \\nand hence we accept the H0 and say that it is normally distributed')"
   ]
  },
  {
   "cell_type": "code",
   "execution_count": 248,
   "metadata": {},
   "outputs": [],
   "source": [
    "ns=np.arange(1,59,1)"
   ]
  },
  {
   "cell_type": "code",
   "execution_count": 313,
   "metadata": {},
   "outputs": [
    {
     "data": {
      "image/png": "[encoded data removed]",
      "text/plain": [
       "<Figure size 432x288 with 1 Axes>"
      ]
     },
     "metadata": {
      "needs_background": "light"
     },
     "output_type": "display_data"
    }
   ],
   "source": [
    "plt.scatter(ns,model1.resid)\n",
    "plt.show()"
   ]
  },
  {
   "cell_type": "markdown",
   "metadata": {},
   "source": [
    "We observe that residual line deviates a lot from the dotted line showing that \n",
    "there is a huge deviation from the observed values.We see that as the fitted values become larger, the error becomes smaller.\n",
    "From the Normal Q-Q plot, we observe that the data is not exaclty normal and is skewed towards the left. \n"
   ]
  },
  {
   "cell_type": "code",
   "execution_count": 314,
   "metadata": {},
   "outputs": [
    {
     "data": {
      "text/html": [
       "<div>\n",
       "<style scoped>\n",
       "    .dataframe tbody tr th:only-of-type {\n",
       "        vertical-align: middle;\n",
       "    }\n",
       "\n",
       "    .dataframe tbody tr th {\n",
       "        vertical-align: top;\n",
       "    }\n",
       "\n",
       "    .dataframe thead th {\n",
       "        text-align: right;\n",
       "    }\n",
       "</style>\n",
       "<table border=\"1\" class=\"dataframe\">\n",
       "  <thead>\n",
       "    <tr style=\"text-align: right;\">\n",
       "      <th></th>\n",
       "      <th>lb_stat</th>\n",
       "      <th>lb_pvalue</th>\n",
       "    </tr>\n",
       "  </thead>\n",
       "  <tbody>\n",
       "    <tr>\n",
       "      <th>5</th>\n",
       "      <td>45.754329</td>\n",
       "      <td>1.019045e-08</td>\n",
       "    </tr>\n",
       "  </tbody>\n",
       "</table>\n",
       "</div>"
      ],
      "text/plain": [
       "     lb_stat     lb_pvalue\n",
       "5  45.754329  1.019045e-08"
      ]
     },
     "execution_count": 314,
     "metadata": {},
     "output_type": "execute_result"
    }
   ],
   "source": [
    "sm.stats.acorr_ljungbox(model1.resid, lags=[5], return_df=True)"
   ]
  },
  {
   "cell_type": "markdown",
   "metadata": {},
   "source": [
    "We observe that the p-value is greater than significance value (0.05) and accept the null hypothesis and say that the residuals are not autocorrelated or are independant of each other."
   ]
  },
  {
   "cell_type": "markdown",
   "metadata": {},
   "source": [
    "Although it violates 1 of the major 3 assumption of OLS, are estiamtes are very close to the observed value and gives high accuracy."
   ]
  },
  {
   "cell_type": "markdown",
   "metadata": {},
   "source": [
    "**Conclusion**"
   ]
  },
  {
   "cell_type": "markdown",
   "metadata": {},
   "source": [
    "- We observe that we got a model that explains 100% of the variaion. Although this might be an inflated R-Sqaured value, our model still predicts with high accuracy.\n",
    "\n",
    "- The model is a log-log model which measures relative changes between the variables.\n",
    "\n",
    "- The drawbacks of the model are that it is heteroscedastic at a few places .Nevertheless, we see that the model's expected values are closed to the observed values.\n",
    "\n",
    "- Since, the values are smaller and are in decimals, the precision really   matters in such cases. The model can be improved by adding more variables"
   ]
  }
 ],
 "metadata": {
  "kernelspec": {
   "display_name": "Python 3 (ipykernel)",
   "language": "python",
   "name": "python3"
  },
  "language_info": {
   "codemirror_mode": {
    "name": "ipython",
    "version": 3
   },
   "file_extension": ".py",
   "mimetype": "text/x-python",
   "name": "python",
   "nbconvert_exporter": "python",
   "pygments_lexer": "ipython3",
   "version": "3.9.13"
  }
 },
 "nbformat": 4,
 "nbformat_minor": 4
}
